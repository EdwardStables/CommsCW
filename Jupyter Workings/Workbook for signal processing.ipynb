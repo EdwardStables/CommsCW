{
 "cells": [
  {
   "cell_type": "code",
   "execution_count": 1,
   "metadata": {},
   "outputs": [],
   "source": [
    "import numpy as np\n",
    "import cmath\n",
    "import math\n",
    "import matplotlib.pyplot as plt "
   ]
  },
  {
   "cell_type": "code",
   "execution_count": 2,
   "metadata": {},
   "outputs": [],
   "source": [
    "def despreader(Tss_, gold, M=1): \n",
    "    #Input: Spread spectrum sequence, gold sequence, value of M\n",
    "    #Output: Despread list of recieved symbols\n",
    "    \n",
    "    #Function first multiplies input by the gold sequence to remove it\n",
    "    #Followed by averaging every M symbols and appending to symbols\n",
    "    symbols = []\n",
    "    \n",
    "    for i in range(len(Tss_)):\n",
    "        Tss_[i] = Tss_[i] * gold[i%len(gold)]\n",
    "        \n",
    "    while len(Tss_) != 0:\n",
    "        symbol = sum(Tss_[:M])/M\n",
    "        symbols.append(symbol)\n",
    "        Tss_ = Tss_[M:]\n",
    "    return symbols"
   ]
  },
  {
   "cell_type": "code",
   "execution_count": 3,
   "metadata": {},
   "outputs": [],
   "source": [
    "def channel(T, SNRin = None, jammer = None):\n",
    "    #Input: list of symbols, noise SNRin, jamming signal\n",
    "    #Output: list of symbols\n",
    "    \n",
    "    #If noise is to be added, linear ratio of noise is calculated then noise added to each sampl\n",
    "    #If a jammer is present, the jamming message is summed to each of the samples\n",
    "    if SNRin is not None:\n",
    "        Ps = signalPower(T)\n",
    "        SNRlin = 10**(SNRin/10)\n",
    "        Pn = Ps/SNRlin\n",
    "        T = [t + complex(np.random.normal(scale = math.sqrt(Pn)), np.random.normal(scale = math.sqrt(Pn))) for t in T]\n",
    "    \n",
    "    if jammer is not None:\n",
    "        T = [t+i for t, i in list(zip(T, jammer))]\n",
    "    return T\n",
    "\n",
    "def signalPower(T):\n",
    "    summation = 0\n",
    "    for i in T:\n",
    "        summation += (abs(i))**2\n",
    "    return summation/len(T)"
   ]
  },
  {
   "cell_type": "code",
   "execution_count": 4,
   "metadata": {},
   "outputs": [],
   "source": [
    "def errorCount(Rx, Tx, percent = False):\n",
    "    #Input: Two recieved messages (in text format), value of whether to return as a percent or a proportion\n",
    "    #Output: either proportion or percentage\n",
    "    \n",
    "    #Formats messages into binary and joins them into a single string\n",
    "    #Then iterates through each value and counts how often 2 messages don't match\n",
    "    Rx = ''.join(sourceEncoder(Rx))\n",
    "    Tx = ''.join(sourceEncoder(Tx))\n",
    "    errorCount = 0\n",
    "    for r, t in list(zip(Rx, Tx)):\n",
    "        if r != t:\n",
    "            errorCount += 1\n",
    "    if percent:\n",
    "        return errorCount / len(Rx)\n",
    "    else:\n",
    "        return errorCount"
   ]
  },
  {
   "cell_type": "code",
   "execution_count": 5,
   "metadata": {},
   "outputs": [],
   "source": [
    "def spreader(T, gold, M = 1):\n",
    "    #Input: Message, gold sequence, value of M\n",
    "    #Output: Spread message\n",
    "    \n",
    "    #Extends signal by factor M (ie, M repititions of each sample)\n",
    "    #Multiplies by gold sequence\n",
    "    output = np.repeat(T, M)\n",
    "    for i in range(len(output)):\n",
    "        output[i] = output[i] * gold[i%len(gold)]\n",
    "    \n",
    "    return output  "
   ]
  },
  {
   "cell_type": "code",
   "execution_count": 22,
   "metadata": {},
   "outputs": [],
   "source": [
    "def generateGold(polynomials, offset=0):\n",
    "    #Input: tuple of 2 polynomials, offset to be used\n",
    "    #Output: gold sequence\n",
    "    PN1 = PN(polynomials[0])\n",
    "    PN2 = PN(polynomials[1])\n",
    "    delayedSequence = PN2[-offset:] + PN2[0:-offset]\n",
    "    gold = [1-2*((i + j)%2) for i, j in list(zip(PN1, delayedSequence))]    \n",
    "    return gold"
   ]
  },
  {
   "cell_type": "code",
   "execution_count": 7,
   "metadata": {},
   "outputs": [],
   "source": [
    "def isbalanced(polynomials, offset):\n",
    "    gold = generateGold(polynomials, offset)\n",
    "    track1=0\n",
    "    trackneg1=0\n",
    "    for i in gold:\n",
    "        if i == 1:\n",
    "            track1+=1\n",
    "        else:\n",
    "            trackneg1+=1\n",
    "    if track1 == trackneg1-1:\n",
    "        print('Balanced')\n",
    "    else:\n",
    "        print('Unbalanced')\n",
    "        print(track1)\n",
    "        print(trackneg1)\n",
    "    "
   ]
  },
  {
   "cell_type": "code",
   "execution_count": 8,
   "metadata": {},
   "outputs": [],
   "source": [
    "def PN(polynomial): \n",
    "    #Input: single polynomial list\n",
    "    #Output: PN sequence\n",
    "    \n",
    "    #creates up an initial setting of all 1s in LFSR, repeats updates until state is again equal to initial value\n",
    "    PN = [1]  \n",
    "    initial = [1] * max(polynomial) \n",
    "    state = [1] * max(polynomial) \n",
    "    polynomial = polynomial[1:] \n",
    "    polynomial = [i + 1 for i in polynomial] \n",
    "\n",
    "    while True:\n",
    "        new = state[-1]\n",
    "        for i in polynomial:\n",
    "            new += state[-i]\n",
    "        new = new % 2\n",
    "        state.insert(0, new)\n",
    "        state.pop(-1)\n",
    "        if state == initial: break\n",
    "        PN.append(state[-1])\n",
    "        \n",
    "    return PN"
   ]
  },
  {
   "cell_type": "code",
   "execution_count": 9,
   "metadata": {},
   "outputs": [],
   "source": [
    "def sourceDecoder(B_):\n",
    "    #Input: list of binary symbols\n",
    "    #Output: message string\n",
    "    charactersBinary = [''.join([a,b,c,d]) for a, b, c, d in list(zip(B_[0::4], B_[1::4], B_[2::4], B_[3::4], ))]\n",
    "    characters = [chr(int(character, 2)) for character in charactersBinary]\n",
    "    \n",
    "    return ''.join(characters)\n",
    "    \n",
    "    "
   ]
  },
  {
   "cell_type": "code",
   "execution_count": 10,
   "metadata": {},
   "outputs": [],
   "source": [
    "def digitalDemodulator(T_):\n",
    "    #Input: list of symbols\n",
    "    #Output: list of binary symbols\n",
    "    \n",
    "    #maps symbols to binary values by checking the phase and comparing \n",
    "    B_ = []\n",
    "    for t in T_:\n",
    "        p = cmath.phase(t)\n",
    "        if p <= math.radians(88) and p > math.radians(-2):\n",
    "            B_.append('00')\n",
    "        elif p <= math.radians(-2) and p > math.radians(-92):\n",
    "            B_.append('10')\n",
    "        elif p <= math.radians(178) and p > math.radians(88):\n",
    "            B_.append('01')\n",
    "        elif (p <= math.radians(180) and p > math.radians(178)) or (p <= math.radians(-92) and p >= math.radians(-180)):\n",
    "            B_.append('11')\n",
    "    return B_\n",
    "        "
   ]
  },
  {
   "cell_type": "code",
   "execution_count": 11,
   "metadata": {},
   "outputs": [],
   "source": [
    "def digitalModulator(B, phi = cmath.pi/4, relativePower = 1):\n",
    "    T = []\n",
    "    symbols = {\"00\":cmath.rect(math.sqrt(2*relativePower), phi), \n",
    "               \"01\":cmath.rect(math.sqrt(2*relativePower), phi + cmath.pi/2),\n",
    "               \"11\":cmath.rect(math.sqrt(2*relativePower), phi + cmath.pi),\n",
    "               \"10\":cmath.rect(math.sqrt(2*relativePower), phi + (3*cmath.pi)/2)\n",
    "               }\n",
    "    for i in B:\n",
    "        T.append(symbols[i[0:2]])\n",
    "        T.append(symbols[i[2:4]])\n",
    "        T.append(symbols[i[4:6]])\n",
    "        T.append(symbols[i[6:8]])\n",
    "    return(T)\n",
    "            "
   ]
  },
  {
   "cell_type": "code",
   "execution_count": 12,
   "metadata": {},
   "outputs": [],
   "source": [
    "def sourceEncoder(message):\n",
    "    #Creates a list of 8 digit binary characters for the message returns as a list of strings\n",
    "    integers = [ord(character) for character in message]\n",
    "    return ['{0:08b}'.format(integer) for integer in integers]"
   ]
  },
  {
   "cell_type": "code",
   "execution_count": 13,
   "metadata": {},
   "outputs": [],
   "source": [
    "def plotConstellation(symbols, save):\n",
    "    t_real = [i.real for i in symbols]\n",
    "    t_imag = [i.imag for i in symbols]\n",
    "    plt.scatter(t_real, t_imag)\n",
    "    plt.xlabel('Re')\n",
    "    plt.ylabel('Im')\n",
    "    if save is not False:\n",
    "        plt.savefig(save)"
   ]
  },
  {
   "cell_type": "code",
   "execution_count": 14,
   "metadata": {},
   "outputs": [],
   "source": [
    "def run(M=None, SNR=None, SNRj=None, plot = False, save=False):\n",
    "    B = sourceEncoder(A)\n",
    "    T = digitalModulator(B, phi)\n",
    "    \n",
    "    jammer = None\n",
    "    if SNRj != None:\n",
    "        SNRjlin = 10**(SNRj/10)\n",
    "        encodedInterference = sourceEncoder(interference)\n",
    "        modulatedInterference = digitalModulator(encodedInterference, relativePower = SNRjlin)\n",
    "        \n",
    "        if M != None:\n",
    "            goldJ = generateGold(polynomialsJ, offset)\n",
    "            jammer = spreader(modulatedInterference, goldJ, M = M)\n",
    "        else:\n",
    "            jammer = modulatedInterference\n",
    "    \n",
    "    \n",
    "    if M != None:\n",
    "        gold = generateGold(polynomials, offset)\n",
    "        \n",
    "        Tss = spreader(T, gold, M = M)\n",
    "        \n",
    "        Tss_ = channel(Tss, SNRin = SNR, jammer = jammer)\n",
    "        \n",
    "        T_ = despreader(Tss_, gold, M = M)\n",
    "    else:\n",
    "        T_ = channel(T, SNRin = SNR, jammer = jammer)\n",
    "        \n",
    "    \n",
    "    B_ = digitalDemodulator(T_)\n",
    "    \n",
    "    A_ = sourceDecoder(B_)\n",
    "        \n",
    "    if plot:\n",
    "        plotConstellation(T_, save)\n",
    "        print(A_ + '\\n')\n",
    "        print(str( errorCount(A_, A, percent=True) * 100) + \"%\")\n",
    "    bitErrorCount = errorCount(A_, A)\n",
    "    return bitErrorCount\n",
    "        "
   ]
  },
  {
   "cell_type": "code",
   "execution_count": 15,
   "metadata": {},
   "outputs": [],
   "source": [
    "#Message and interference are randomly generated Lorem Ipsum text, both of 300 characters\n",
    "A = str(open(\"../message.txt\",\"r\").read())\n",
    "interference = str(open(\"../noise.txt\", \"r\").read())\n",
    "#phi = alphabetical order of 1st letter of surname + 2x alphabetical order of 1st letter of surname\n",
    "#phi = 5 + 2(19) = 43\n",
    "phi = math.radians(43) #in radians\n",
    "\n",
    "PN1 = [5,2]\n",
    "PN2 = [5,3,2,1]\n",
    "polynomials = (PN1, PN2)\n",
    "offset = 24\n",
    "\n",
    "PN1J = [5,3]\n",
    "PN2J = [5,4,2,1]\n",
    "polynomialsJ = (PN1J, PN2J)"
   ]
  },
  {
   "cell_type": "markdown",
   "metadata": {},
   "source": [
    "Task 1"
   ]
  },
  {
   "cell_type": "code",
   "execution_count": 25,
   "metadata": {
    "collapsed": true
   },
   "outputs": [
    {
     "name": "stdout",
     "output_type": "stream",
     "text": [
      "Lorem ipsum dolor sit amet, consectetur adipiscing elit. Suspendisse non orci sem. Class aptent taciti sociosqu ad litora torquent per conubia nostra, per inceptos himenaeos. Maecenas tempor et urna sit amet ornare. Maecenas mattis ligula eleifend, ultrices lacus a, pellentesque nisl. Vestibulum tel\n",
      "\n",
      "0.0%\n"
     ]
    },
    {
     "data": {
      "text/plain": [
       "0"
      ]
     },
     "execution_count": 25,
     "metadata": {},
     "output_type": "execute_result"
    },
    {
     "data": {
      "image/png": "[encoded data removed]",
      "text/plain": [
       "<Figure size 432x288 with 1 Axes>"
      ]
     },
     "metadata": {
      "needs_background": "light"
     },
     "output_type": "display_data"
    }
   ],
   "source": [
    "run(plot = True)"
   ]
  },
  {
   "cell_type": "markdown",
   "metadata": {},
   "source": [
    "Task 2"
   ]
  },
  {
   "cell_type": "code",
   "execution_count": 26,
   "metadata": {
    "collapsed": true
   },
   "outputs": [
    {
     "name": "stdout",
     "output_type": "stream",
     "text": [
      "Lorem ipsum dolor sit amet, consectetur adipiscing elit. Suspendisse non orci sem. Class aptent taciti sociosqu ad litora torquent per conubia nostra, per inceptos himenaeos. Maecenas tempor et urna sit amet ornare. Maecenas mattis ligula eleifend, ultrices lacus a, pellentesque nisl. Vestibulum tel\n",
      "\n",
      "0.0%\n"
     ]
    },
    {
     "data": {
      "text/plain": [
       "0"
      ]
     },
     "execution_count": 26,
     "metadata": {},
     "output_type": "execute_result"
    },
    {
     "data": {
      "image/png": "[encoded data removed]",
      "text/plain": [
       "<Figure size 432x288 with 1 Axes>"
      ]
     },
     "metadata": {
      "needs_background": "light"
     },
     "output_type": "display_data"
    }
   ],
   "source": [
    "run(SNR = 30, plot = True)"
   ]
  },
  {
   "cell_type": "markdown",
   "metadata": {},
   "source": [
    "Task 3"
   ]
  },
  {
   "cell_type": "code",
   "execution_count": 27,
   "metadata": {
    "collapsed": true
   },
   "outputs": [
    {
     "name": "stdout",
     "output_type": "stream",
     "text": [
      "Lorem ipsum dolor sit amet, consectetur adipiscing elit. Suspendisse non orci sem. Class aptent taciti sociosqu ad litora torquent per conubia nostra, per inceptos himenaeos. Maecenas tempor et urna sit amet ornare. Maecenas mattis ligula eleifend, ultrices lacus a, pellentesque nisl. Vestibulum tel\n",
      "\n",
      "0.0%\n"
     ]
    },
    {
     "data": {
      "text/plain": [
       "0"
      ]
     },
     "execution_count": 27,
     "metadata": {},
     "output_type": "execute_result"
    },
    {
     "data": {
      "image/png": "[encoded data removed]",
      "text/plain": [
       "<Figure size 432x288 with 1 Axes>"
      ]
     },
     "metadata": {
      "needs_background": "light"
     },
     "output_type": "display_data"
    }
   ],
   "source": [
    "run(SNR =  20, plot = True)"
   ]
  },
  {
   "cell_type": "markdown",
   "metadata": {},
   "source": [
    "Task 4"
   ]
  },
  {
   "cell_type": "code",
   "execution_count": 28,
   "metadata": {
    "collapsed": true
   },
   "outputs": [
    {
     "name": "stdout",
     "output_type": "stream",
     "text": [
      "Hÿr$åxep(å}!$oìOr8±K¦!addp¬*q\u0017fsT#|%öWJéaa´+qjiNFµEyèvCÓ",
      "Ã|1fdëóce1\u0000El$mþiHtemn K¨\bw)á30m÷j0\u0015GãaR- rNCáIau uàìg\t4f·\u000b",
      " øov5}mn> !¢áë\u0015.dæMã\u0018nog\u0013beçfp$RiMîsMvpûw@Haneêp¬í{¬3Èywf'L&{'t!o)2Itp¢ub,eh}i¼(iañt2ë~ÿe!e. MI%c#ïqk\u0010ìxg`A3\"jpc\f",
      "d`ã',eíâdfedñ~\u0016)bts\"Î Gw1(A, Øg(y¥.4í\u000b",
      "ñuc%$U{L~\u0000vcq:\r",
      "&ñnu=)`m|\n",
      "\n",
      "23.166666666666664%\n"
     ]
    },
    {
     "data": {
      "text/plain": [
       "556"
      ]
     },
     "execution_count": 28,
     "metadata": {},
     "output_type": "execute_result"
    },
    {
     "data": {
      "image/png": "[encoded data removed]",
      "text/plain": [
       "<Figure size 432x288 with 1 Axes>"
      ]
     },
     "metadata": {
      "needs_background": "light"
     },
     "output_type": "display_data"
    }
   ],
   "source": [
    "run(SNR = 0, plot = True)"
   ]
  },
  {
   "cell_type": "markdown",
   "metadata": {},
   "source": [
    "Task 6"
   ]
  },
  {
   "cell_type": "code",
   "execution_count": 39,
   "metadata": {
    "collapsed": true
   },
   "outputs": [
    {
     "name": "stdout",
     "output_type": "stream",
     "text": [
      "Mauris interdum tempor neque, eget ornare erat eleifend luctus. In quis arcu cursus, lobortis leo sit amet, dignissim odio. Mauris molestie vel orci et consequat. Nunc nec sapien eu purus tempor vulputate. Donec in tristique lectus, a interdum orci. Cras rhoncus sapien nec aliquet egestas. Donec ege\n",
      "\n",
      "33.08333333333333%\n"
     ]
    },
    {
     "data": {
      "text/plain": [
       "794"
      ]
     },
     "execution_count": 39,
     "metadata": {},
     "output_type": "execute_result"
    },
    {
     "data": {
      "image/png": "[encoded data removed]",
      "text/plain": [
       "<Figure size 432x288 with 1 Axes>"
      ]
     },
     "metadata": {
      "needs_background": "light"
     },
     "output_type": "display_data"
    }
   ],
   "source": [
    "run(SNR = 30, SNRj = 10, plot = True, save = 'task6.png')"
   ]
  },
  {
   "cell_type": "markdown",
   "metadata": {},
   "source": [
    "Task 7"
   ]
  },
  {
   "cell_type": "code",
   "execution_count": 49,
   "metadata": {},
   "outputs": [
    {
     "name": "stdout",
     "output_type": "stream",
     "text": [
      "Lorem ipsum dolor sit amet, consectetur adipiscing elit. Suspendisse non orci sem. Class aptent taciti sociosqu ad litora torquent per conubia nostra, per inceptos himenaeos. Maecenas tempor et urna sit amet ornare. Maecenas mattis ligula eleifend, ultrices lacus a, pellentesque nisl. Vestibulum tel\n",
      "\n",
      "0.0%\n"
     ]
    },
    {
     "data": {
      "text/plain": [
       "0"
      ]
     },
     "execution_count": 49,
     "metadata": {},
     "output_type": "execute_result"
    },
    {
     "data": {
      "image/png": "[encoded data removed]",
      "text/plain": [
       "<Figure size 432x288 with 1 Axes>"
      ]
     },
     "metadata": {
      "needs_background": "light"
     },
     "output_type": "display_data"
    }
   ],
   "source": [
    "#run(SNR = 30, SNRj = 10, M = 24, plot = True)\n",
    "run(SNR = 30, SNRj = 10, M = 30, plot = True)\n",
    "#run(SNR = 30, SNRj = 10, M = 5, plot = True)\n"
   ]
  }
 ],
 "metadata": {
  "kernelspec": {
   "display_name": "Python 3",
   "language": "python",
   "name": "python3"
  },
  "language_info": {
   "codemirror_mode": {
    "name": "ipython",
    "version": 3
   },
   "file_extension": ".py",
   "mimetype": "text/x-python",
   "name": "python",
   "nbconvert_exporter": "python",
   "pygments_lexer": "ipython3",
   "version": "3.7.1"
  }
 },
 "nbformat": 4,
 "nbformat_minor": 2
}
