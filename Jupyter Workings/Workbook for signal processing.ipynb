{
 "cells": [
  {
   "cell_type": "code",
   "execution_count": 8,
   "metadata": {},
   "outputs": [],
   "source": [
    "import numpy as np\n",
    "import cmath\n",
    "import math\n",
    "from matplotlib.pyplot import *"
   ]
  },
  {
   "cell_type": "code",
   "execution_count": 9,
   "metadata": {},
   "outputs": [],
   "source": [
    "#Message and interference are randomly generated Lorem Ipsum text, both of 300 characters\n",
    "\n",
    "A = str(open(\"../message.txt\",\"r\").read())\n",
    "interference = str(open(\"../noise.txt\", \"r\").read())\n",
    "#phi = alphabetical order of 1st letter of surname + 2x alphabetical order of 1st letter of surname\n",
    "#phi = 5 + 2(19) = 43\n",
    "phi = math.radians(43) #in radians"
   ]
  },
  {
   "cell_type": "code",
   "execution_count": 258,
   "metadata": {
    "scrolled": false
   },
   "outputs": [
    {
     "name": "stdout",
     "output_type": "stream",
     "text": [
      "0.0%\n"
     ]
    }
   ],
   "source": [
    "B = sourceEncoder(A) #each character in A is returned as an 8-bit utf-8 encoded binary\n",
    "\n",
    "T = digitalModulator(B, phi) #returns the stream of symbols, 4 symbols per character: ie 1200 symbols\n",
    "#ignoring the carrier, T is the transmitted signal\n",
    "#T_ = channel(T)\n",
    "#T_ = channel(T, SNRin = 30)\n",
    "T_ = channel(T, SNRin = 15)\n",
    "#T_ = channel(T, SNRin = 1)\n",
    "\n",
    "\"\"\"\n",
    "t_real = [i.real for i in T_]\n",
    "t_imag = [i.imag for i in T_]\n",
    "fig,ax = subplots()\n",
    "ax.scatter(t_real, t_imag)\n",
    "\"\"\"\n",
    "B_ = digitalDemodulator(T_)\n",
    "\n",
    "try:\n",
    "    A_ = sourceDecoder(B_)\n",
    "except:\n",
    "    print(\"Decoding error, bit error caused an invalid UTF-8 byte code\")\n",
    "error = errorPercent(B_, A)\n",
    "print(str(error) + \"%\")"
   ]
  },
  {
   "cell_type": "code",
   "execution_count": 235,
   "metadata": {},
   "outputs": [],
   "source": [
    "def errorPercent(Rx, Tx):\n",
    "    Tx = sourceEncoder(Tx)\n",
    "    Tx_join = \"\"\n",
    "    Rx_join = \"\"\n",
    "    for r in Rx:\n",
    "        Rx_join += r\n",
    "    for t in Tx:\n",
    "        Tx_join += t\n",
    "    error = 0\n",
    "    for r, t in list(zip(Rx_join, Tx_join)):\n",
    "        if r != t:\n",
    "            error += 1\n",
    "    return 100 * error/len(Tx) "
   ]
  },
  {
   "cell_type": "code",
   "execution_count": 197,
   "metadata": {},
   "outputs": [],
   "source": [
    "def sourceDecoder(B_):\n",
    "    byte_list = []\n",
    "    A_ = \"\"\n",
    "    B_copy = B_.copy()\n",
    "    while len(B_copy) > 0:\n",
    "        #print(len(B_))\n",
    "        symbol = B_copy[0] + B_copy[1] + B_copy[2] + B_copy[3]\n",
    "        del B_copy[0:4]\n",
    "        byte_list.append(symbol)\n",
    "        \n",
    "    for byte in byte_list:\n",
    "        temp = int(byte, 2).to_bytes(1, byteorder = \"big\")\n",
    "        A_ += temp.decode()\n",
    "    return A_\n",
    "    "
   ]
  },
  {
   "cell_type": "code",
   "execution_count": null,
   "metadata": {},
   "outputs": [],
   "source": [
    "def digitalDemodulator(T_):\n",
    "    B_ = []\n",
    "    for i in T_:\n",
    "        distances = pointDistance(i)\n",
    "        B_.append(min(distances, key = distances.get))\n",
    "    return B_\n",
    "        \n",
    "def pointDistance(point):\n",
    "    symbols = {\"00\":cmath.rect(math.sqrt(2), phi), \n",
    "            \"01\":cmath.rect(math.sqrt(2), phi + cmath.pi/2),\n",
    "            \"11\":cmath.rect(math.sqrt(2), phi + cmath.pi),\n",
    "            \"10\":cmath.rect(math.sqrt(2), phi + (3*cmath.pi)/2)\n",
    "            }\n",
    "    symbols[\"00\"] = abs(point - symbols[\"00\"])\n",
    "    symbols[\"01\"] = abs(point - symbols[\"01\"])\n",
    "    symbols[\"11\"] = abs(point - symbols[\"11\"])\n",
    "    symbols[\"10\"] = abs(point - symbols[\"10\"])\n",
    "    return symbols"
   ]
  },
  {
   "cell_type": "code",
   "execution_count": null,
   "metadata": {},
   "outputs": [],
   "source": [
    "def channel(T, k = 1, SNRin = None, jammer = None):\n",
    "    #SNRin should be given in dB\n",
    "    T = [k*t for t in T]\n",
    "    Ps = signalPower(T)\n",
    "    if SNRin != None: \n",
    "        SNRlin = 10**(SNRin/10)\n",
    "        Pn = Ps/SNRlin\n",
    "        T = addAWGN(T, Pn)\n",
    "    #AWGN is Y = X + Z where Z = N(0, N_0/2)\n",
    "    return T\n",
    "    \n",
    "def addAWGN(T, Pn):\n",
    "    n_r = []\n",
    "    n_i = []\n",
    "    for i in T:\n",
    "        n_r.append(np.random.normal(scale = math.sqrt(Pn)))\n",
    "        n_i.append(np.random.normal(scale = math.sqrt(Pn)))\n",
    "    return [T[i] + complex(n_r[i], n_i[i]) for i in range(len(T))]\n",
    "\n",
    "def signalPower(T):\n",
    "    summation = 0\n",
    "    for i in T:\n",
    "        summation += (abs(i))**2\n",
    "    return summation/len(T)"
   ]
  },
  {
   "cell_type": "code",
   "execution_count": 11,
   "metadata": {},
   "outputs": [],
   "source": [
    "def digitalModulator(B, phi = cmath.pi/4):\n",
    "    T = []\n",
    "    symbols = {\"00\":cmath.rect(math.sqrt(2), phi), \n",
    "               \"01\":cmath.rect(math.sqrt(2), phi + cmath.pi/2),\n",
    "               \"11\":cmath.rect(math.sqrt(2), phi + cmath.pi),\n",
    "               \"10\":cmath.rect(math.sqrt(2), phi + (3*cmath.pi)/2)\n",
    "               }\n",
    "    for i in B:\n",
    "        T.append(symbols[i[0:2]])\n",
    "        T.append(symbols[i[2:4]])\n",
    "        T.append(symbols[i[4:6]])\n",
    "        T.append(symbols[i[6:8]])\n",
    "    return(T)\n",
    "            "
   ]
  },
  {
   "cell_type": "code",
   "execution_count": 12,
   "metadata": {},
   "outputs": [],
   "source": [
    "def sourceEncoder(m):\n",
    "    #Creates a list of 8 digit binary characters for the message, returns as a string\n",
    "    binary = list(map(bin,bytearray(m,'UTF-8')))\n",
    "    binary = [str(b[2:]) for b in binary]\n",
    "    for b in range(len(binary)):\n",
    "        while len(binary[b]) < 8:\n",
    "            binary[b] = \"0\" + binary[b]\n",
    "    return(binary)"
   ]
  },
  {
   "cell_type": "code",
   "execution_count": null,
   "metadata": {},
   "outputs": [],
   "source": []
  }
 ],
 "metadata": {
  "kernelspec": {
   "display_name": "Python 3",
   "language": "python",
   "name": "python3"
  },
  "language_info": {
   "codemirror_mode": {
    "name": "ipython",
    "version": 3
   },
   "file_extension": ".py",
   "mimetype": "text/x-python",
   "name": "python",
   "nbconvert_exporter": "python",
   "pygments_lexer": "ipython3",
   "version": "3.7.1"
  }
 },
 "nbformat": 4,
 "nbformat_minor": 2
}
