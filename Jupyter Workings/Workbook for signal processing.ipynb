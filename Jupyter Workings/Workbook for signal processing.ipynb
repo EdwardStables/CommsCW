{
 "cells": [
  {
   "cell_type": "code",
   "execution_count": 83,
   "metadata": {},
   "outputs": [],
   "source": [
    "import numpy as np\n",
    "import cmath\n",
    "import math\n",
    "import matplotlib.pyplot as plt "
   ]
  },
  {
   "cell_type": "code",
   "execution_count": 2,
   "metadata": {},
   "outputs": [],
   "source": [
    "def despreader(Tss_, gold, M=1):   \n",
    "    symbols = []\n",
    "    \n",
    "    for i in range(len(Tss_)):\n",
    "        Tss_[i] = Tss_[i] * gold[i%len(gold)]\n",
    "        \n",
    "    while len(Tss_) != 0:\n",
    "        symbol = sum(Tss_[:M])/M\n",
    "        symbols.append(symbol)\n",
    "        Tss_ = Tss_[M:]\n",
    "    return symbols"
   ]
  },
  {
   "cell_type": "code",
   "execution_count": 3,
   "metadata": {},
   "outputs": [],
   "source": [
    "def channel(T, SNRin = None, jammer = None):\n",
    "    #SNRin should be given in dB\n",
    "    #k is the signal attenuation of the channel\n",
    "    #jammer is a tuple with the jamming message and the power of the jammer\n",
    "    #jammer[0] is the jamming message, jammer[1] is the relative power of the jamming signal in dBs compared to the message signal\n",
    "    \n",
    "    if SNRin is not None:\n",
    "        Ps = signalPower(T)\n",
    "        SNRlin = 10**(SNRin/10)\n",
    "        Pn = Ps/SNRlin\n",
    "        T = [t + complex(np.random.normal(scale = math.sqrt(Pn)), np.random.normal(scale = math.sqrt(Pn))) for t in T]\n",
    "    \n",
    "    if jammer is not None:\n",
    "        T = [t+i for t, i in list(zip(T, jammer))]\n",
    "    return T\n",
    "\n",
    "def signalPower(T):\n",
    "    summation = 0\n",
    "    for i in T:\n",
    "        summation += (abs(i))**2\n",
    "    return summation/len(T)"
   ]
  },
  {
   "cell_type": "code",
   "execution_count": 45,
   "metadata": {},
   "outputs": [],
   "source": [
    "def errorCount(Rx, Tx, percent = False):\n",
    "    Rx = ''.join(sourceEncoder(Rx))\n",
    "    Tx = ''.join(sourceEncoder(Tx))\n",
    "    errorCount = 0\n",
    "    for r, t in list(zip(Rx, Tx)):\n",
    "        if r != t:\n",
    "            errorCount += 1\n",
    "    if percent:\n",
    "        return errorCount / len(Rx)\n",
    "    else:\n",
    "        return errorCount"
   ]
  },
  {
   "cell_type": "code",
   "execution_count": 5,
   "metadata": {},
   "outputs": [],
   "source": [
    "def spreader(T, gold, M = 1):\n",
    "    \n",
    "    #M is how many values from gold are 'allocated' to each symbol. Therefore the output length will be len(T)*M\n",
    "    \n",
    "    output = np.repeat(T, M)\n",
    "    for i in range(len(output)):\n",
    "        output[i] = output[i] * gold[i%len(gold)]\n",
    "    \n",
    "    return output  "
   ]
  },
  {
   "cell_type": "code",
   "execution_count": 6,
   "metadata": {},
   "outputs": [],
   "source": [
    "def generateGold(polynomials, offset=0):\n",
    "    PN1 = PN(polynomials[0])\n",
    "    PN2 = PN(polynomials[1])\n",
    "    gold = [0] * len(PN1)\n",
    "    for i in range(len(PN1)):\n",
    "        temp = PN1[i]\n",
    "        \n",
    "        if i+offset < len(PN2):\n",
    "            temp += PN2[i+offset]\n",
    "        else:\n",
    "            temp += PN2[i+offset-len(PN2)]\n",
    "        gold[i] = temp % 2\n",
    "    gold = [1-2*i for i in gold]\n",
    "    return gold\n",
    "    "
   ]
  },
  {
   "cell_type": "code",
   "execution_count": 7,
   "metadata": {},
   "outputs": [],
   "source": [
    "def PN(polynomial): \n",
    "    PN = [1] \n",
    "    initial = [1] * max(polynomial) \n",
    "    state = [1] * max(polynomial) \n",
    "    polynomial = polynomial[1:] \n",
    "    polynomial = [i + 1 for i in polynomial] \n",
    "\n",
    "    while True:\n",
    "        new = state[-1]\n",
    "        for i in polynomial:\n",
    "            new += state[-i]\n",
    "        new = new % 2\n",
    "        state.insert(0, new)\n",
    "        state.pop(-1)\n",
    "        if state == initial: break\n",
    "        PN.append(state[-1])\n",
    "    return PN"
   ]
  },
  {
   "cell_type": "code",
   "execution_count": 8,
   "metadata": {},
   "outputs": [],
   "source": [
    "def sourceDecoder(B_):\n",
    "    charactersBinary = [''.join([a,b,c,d]) for a, b, c, d in list(zip(B_[0::4], B_[1::4], B_[2::4], B_[3::4], ))]\n",
    "    characters = [chr(int(character, 2)) for character in charactersBinary]\n",
    "    \n",
    "    return ''.join(characters)\n",
    "    \n",
    "    "
   ]
  },
  {
   "cell_type": "code",
   "execution_count": 9,
   "metadata": {},
   "outputs": [],
   "source": [
    "def digitalDemodulator(T_):\n",
    "    #demodulator maps regions of the plane to symbols based on phase, assumes equiprobable symbols\n",
    "    B_ = []\n",
    "    for t in T_:\n",
    "        p = cmath.phase(t)\n",
    "        if p <= math.radians(88) and p > math.radians(-2):\n",
    "            B_.append('00')\n",
    "        elif p <= math.radians(-2) and p > math.radians(-92):\n",
    "            B_.append('10')\n",
    "        elif p <= math.radians(178) and p > math.radians(88):\n",
    "            B_.append('01')\n",
    "        elif (p <= math.radians(180) and p > math.radians(178)) or (p <= math.radians(-92) and p >= math.radians(-180)):\n",
    "            B_.append('11')\n",
    "    return B_\n",
    "        "
   ]
  },
  {
   "cell_type": "code",
   "execution_count": 10,
   "metadata": {},
   "outputs": [],
   "source": [
    "def digitalModulator(B, phi = cmath.pi/4, relativePower = 1):\n",
    "    T = []\n",
    "    symbols = {\"00\":cmath.rect(math.sqrt(2*relativePower), phi), \n",
    "               \"01\":cmath.rect(math.sqrt(2*relativePower), phi + cmath.pi/2),\n",
    "               \"11\":cmath.rect(math.sqrt(2*relativePower), phi + cmath.pi),\n",
    "               \"10\":cmath.rect(math.sqrt(2*relativePower), phi + (3*cmath.pi)/2)\n",
    "               }\n",
    "    for i in B:\n",
    "        T.append(symbols[i[0:2]])\n",
    "        T.append(symbols[i[2:4]])\n",
    "        T.append(symbols[i[4:6]])\n",
    "        T.append(symbols[i[6:8]])\n",
    "    return(T)\n",
    "            "
   ]
  },
  {
   "cell_type": "code",
   "execution_count": 11,
   "metadata": {},
   "outputs": [],
   "source": [
    "def sourceEncoder(message):\n",
    "    #Creates a list of 8 digit binary characters for the message returns as a list of strings\n",
    "    integers = [ord(character) for character in message]\n",
    "    return ['{0:08b}'.format(integer) for integer in integers]"
   ]
  },
  {
   "cell_type": "code",
   "execution_count": 13,
   "metadata": {},
   "outputs": [],
   "source": [
    "def isbalanced(polynomial1, polynomial2, offset):\n",
    "    PN1 = PN(polynomials[0])\n",
    "    PN2 = PN(polynomials[1])\n",
    "    gold = [0] * len(PN1)\n",
    "    for i in range(len(PN1)):\n",
    "        temp = PN1[i]\n",
    "        \n",
    "        if i+offset < len(PN2):\n",
    "            temp += PN2[i+offset]\n",
    "        else:\n",
    "            temp += PN2[i+offset-len(PN2)]\n",
    "        gold[i] = temp % 2\n",
    "    gold = [1-2*i for i in gold]\n",
    "    track1=0\n",
    "    trackneg1=0\n",
    "    for i in gold:\n",
    "        if i == 1:\n",
    "            track1+=1\n",
    "        else:\n",
    "            trackneg1+=1\n",
    "    print(track1)\n",
    "    print(trackneg1)\n",
    "    "
   ]
  },
  {
   "cell_type": "code",
   "execution_count": 87,
   "metadata": {},
   "outputs": [],
   "source": [
    "def plotConstellation(symbols, save):\n",
    "    t_real = [i.real for i in symbols]\n",
    "    t_imag = [i.imag for i in symbols]\n",
    "    plt.scatter(t_real, t_imag)\n",
    "    plt.xlabel('Re')\n",
    "    plt.ylabel('Im')\n",
    "    if save is not None:\n",
    "        plt.savefig(save)"
   ]
  },
  {
   "cell_type": "code",
   "execution_count": 64,
   "metadata": {},
   "outputs": [],
   "source": [
    "def run(M=None, SNR=None, SNRj=None, plot = False, save=False):\n",
    "    B = sourceEncoder(A)\n",
    "    T = digitalModulator(B, phi)\n",
    "    \n",
    "    if M == 0:\n",
    "        M = None\n",
    "    \n",
    "    jammer = None\n",
    "    if SNRj != None:\n",
    "        SNRjlin = 10**(SNRj/10)\n",
    "        encodedInterference = sourceEncoder(interference)\n",
    "        modulatedInterference = digitalModulator(encodedInterference, relativePower = SNRjlin)\n",
    "        \n",
    "        if M != None:\n",
    "            goldJ = generateGold(polynomialsJ, offset)\n",
    "            jammer = spreader(modulatedInterference, goldJ, M = M)\n",
    "        else:\n",
    "            jammer = modulatedInterference\n",
    "    \n",
    "    \n",
    "    if M != None:\n",
    "        gold = generateGold(polynomials, offset)\n",
    "        Tss = spreader(T, gold, M = M)\n",
    "        \n",
    "        Tss_ = channel(Tss, SNRin = SNR, jammer = jammer)\n",
    "        \n",
    "        T_ = despreader(Tss_, gold, M = M)\n",
    "    else:\n",
    "        T_ = channel(T, SNRin = SNR, jammer = jammer)\n",
    "        \n",
    "    \n",
    "    B_ = digitalDemodulator(T_)\n",
    "    \n",
    "    A_ = sourceDecoder(B_)\n",
    "        \n",
    "    if plot:\n",
    "        plotConstellation(T_, save)\n",
    "        print(A_ + '\\n')\n",
    "        print(str( errorCount(A_, A, percent=True) * 100) + \"%\")\n",
    "    bitErrorCount = errorCount(A_, A)\n",
    "    return bitErrorCount\n",
    "        "
   ]
  },
  {
   "cell_type": "code",
   "execution_count": 92,
   "metadata": {},
   "outputs": [
    {
     "name": "stdout",
     "output_type": "stream",
     "text": [
      "Lorem ipsum dolor sit amet, consectetur adipiscing elit. Suspendisse non orci sem. Class aptent taciti sociosqu ad litora torquent per conubia nostra, per inceptos himenaeos. Maecenas tempor et urna sit amet ornare. Maecenas mattis ligula eleifend, ultrices lacus a, pellentesque nisl. Vestibulum tel\n",
      "\n",
      "0.0%\n"
     ]
    },
    {
     "data": {
      "text/plain": [
       "0"
      ]
     },
     "execution_count": 92,
     "metadata": {},
     "output_type": "execute_result"
    },
    {
     "data": {
      "image/png": "[encoded data removed]",
      "text/plain": [
       "<Figure size 432x288 with 1 Axes>"
      ]
     },
     "metadata": {
      "needs_background": "light"
     },
     "output_type": "display_data"
    }
   ],
   "source": [
    "run( plot = True, save = 'task1.png')"
   ]
  },
  {
   "cell_type": "code",
   "execution_count": 51,
   "metadata": {},
   "outputs": [],
   "source": [
    "#Message and interference are randomly generated Lorem Ipsum text, both of 300 characters\n",
    "\n",
    "A = str(open(\"../message.txt\",\"r\").read())\n",
    "interference = str(open(\"../noise.txt\", \"r\").read())\n",
    "#phi = alphabetical order of 1st letter of surname + 2x alphabetical order of 1st letter of surname\n",
    "#phi = 5 + 2(19) = 43\n",
    "phi = math.radians(43) #in radians\n",
    "\n",
    "PN1 = [5,2]\n",
    "PN2 = [5,3,2,1]\n",
    "polynomials = (PN1, PN2)\n",
    "offset = 24\n",
    "\n",
    "PN1J = [5,3]\n",
    "PN2J = [5,4,2,1]\n",
    "polynomialsJ = (PN1J, PN2J)"
   ]
  },
  {
   "cell_type": "code",
   "execution_count": 59,
   "metadata": {},
   "outputs": [
    {
     "name": "stdout",
     "output_type": "stream",
     "text": [
      "0\n",
      "[0, 1, 2, 3, 4, 5, 6, 7, 8, 9, 10, 11, 12, 13, 14, 15, 16, 17, 18, 19, 20, 21, 22, 23, 24, 25, 26, 27, 28, 29]\n",
      "[587, 565, 611, 541, 588, 547, 570, 593, 573, 556, 573, 566, 581, 558, 545, 587, 555, 575, 560, 566, 522, 559, 568, 601, 557, 604, 560, 547, 566]\n"
     ]
    },
    {
     "data": {
      "text/plain": [
       "[<matplotlib.lines.Line2D at 0x2297469e160>]"
      ]
     },
     "execution_count": 59,
     "metadata": {},
     "output_type": "execute_result"
    },
    {
     "data": {
      "image/png": "[encoded data removed]",
      "text/plain": [
       "<Figure size 432x288 with 1 Axes>"
      ]
     },
     "metadata": {
      "needs_background": "light"
     },
     "output_type": "display_data"
    }
   ],
   "source": [
    "print(run(M = 30, SNRj = 10))\n",
    "M = list(range(30))\n",
    "errorCounter = []\n",
    "for m in M[1:]:\n",
    "    errorCounter.append(run(SNR=0))\n",
    "print(M)\n",
    "print(errorCounter)\n",
    "plot(errorCounter)"
   ]
  },
  {
   "cell_type": "code",
   "execution_count": null,
   "metadata": {},
   "outputs": [],
   "source": []
  }
 ],
 "metadata": {
  "kernelspec": {
   "display_name": "Python 3",
   "language": "python",
   "name": "python3"
  },
  "language_info": {
   "codemirror_mode": {
    "name": "ipython",
    "version": 3
   },
   "file_extension": ".py",
   "mimetype": "text/x-python",
   "name": "python",
   "nbconvert_exporter": "python",
   "pygments_lexer": "ipython3",
   "version": "3.7.1"
  }
 },
 "nbformat": 4,
 "nbformat_minor": 2
}
